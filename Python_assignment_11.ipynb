{
 "cells": [
  {
   "cell_type": "markdown",
   "id": "2171be59",
   "metadata": {},
   "source": [
    "### PYTHON ASSIGNMENT 11"
   ]
  },
  {
   "cell_type": "markdown",
   "id": "f6c83a80",
   "metadata": {},
   "source": [
    "#### Question 1"
   ]
  },
  {
   "cell_type": "raw",
   "id": "6945a9c0",
   "metadata": {},
   "source": [
    "spam = -1\n",
    "assert spam >0, 'The variable spam is less than 0'"
   ]
  },
  {
   "cell_type": "markdown",
   "id": "5a05a7cb",
   "metadata": {},
   "source": [
    "#### Question 2"
   ]
  },
  {
   "cell_type": "raw",
   "id": "706bc229",
   "metadata": {},
   "source": [
    "eggs='abcd'\n",
    "bacon='ABcd'\n",
    "\n",
    "assert eggs.lower()!=bacon.lower(),\"eggs and bacon have same string value.\""
   ]
  },
  {
   "cell_type": "markdown",
   "id": "157cdc47",
   "metadata": {},
   "source": [
    "#### Question 3 "
   ]
  },
  {
   "cell_type": "raw",
   "id": "0d15ed9d",
   "metadata": {},
   "source": [
    "assert False, 'It will throw assertion error every time.'"
   ]
  },
  {
   "cell_type": "markdown",
   "id": "14672e25",
   "metadata": {},
   "source": [
    "#### Question 4 "
   ]
  },
  {
   "cell_type": "raw",
   "id": "b314f92c",
   "metadata": {},
   "source": [
    "The 2 lines that need to be present are:\n",
    "1) import logging\n",
    "2) logging.basicConfig(level=logging.DEBUG)"
   ]
  },
  {
   "cell_type": "markdown",
   "id": "e722c3c1",
   "metadata": {},
   "source": [
    "#### Question 5"
   ]
  },
  {
   "cell_type": "raw",
   "id": "8517e641",
   "metadata": {},
   "source": [
    "The 2 lines that need to be present are:\n",
    "1) import logging\n",
    "2)logging.basicConfig('programLog.txt',level=logging.DEBUG)"
   ]
  },
  {
   "cell_type": "markdown",
   "id": "2de828a4",
   "metadata": {},
   "source": [
    "#### Question 6"
   ]
  },
  {
   "cell_type": "raw",
   "id": "1f81f9e0",
   "metadata": {},
   "source": [
    "The Five level of loggings are:\n",
    "1) CRITICAL\n",
    "2) ERROR\n",
    "3) WARNING\n",
    "4) INFO\n",
    "5) DEBUG"
   ]
  },
  {
   "cell_type": "markdown",
   "id": "3a010e92",
   "metadata": {},
   "source": [
    "#### Question 7"
   ]
  },
  {
   "cell_type": "raw",
   "id": "572d0f19",
   "metadata": {},
   "source": [
    "logging.disable(logging.CRITICAL)"
   ]
  },
  {
   "cell_type": "markdown",
   "id": "3356742d",
   "metadata": {},
   "source": [
    "#### Question 8 "
   ]
  },
  {
   "cell_type": "raw",
   "id": "98798408",
   "metadata": {},
   "source": [
    "Logging messages are better than print in following ways:\n",
    "1) It provide the timestamp\n",
    "2) It can be stopped without removing function calls using disable function.\n",
    "3) Lower level logging message can be disable without disabling higher level messages.\n",
    "4) can be seen after the program gets closed.\n",
    "5) We can choose the destination for keeping the logging messages."
   ]
  },
  {
   "cell_type": "markdown",
   "id": "39008801",
   "metadata": {},
   "source": [
    "#### Question 9 "
   ]
  },
  {
   "cell_type": "raw",
   "id": "67bc3e9a",
   "metadata": {},
   "source": [
    "Step In : It is used to debug the code line by line. When the procedure gets called, it runs the procedure line by line.\n",
    "Step Over : It is used to run the code line by line but when the procedure gets called it runs the procedure in a single step.\n",
    "Step Out : It executes the rest of the code to execute quickly until it comes out of a procedure call."
   ]
  },
  {
   "cell_type": "markdown",
   "id": "ff4a4ade",
   "metadata": {},
   "source": [
    "#### Question 10"
   ]
  },
  {
   "cell_type": "raw",
   "id": "ceae378c",
   "metadata": {},
   "source": [
    "After clicking 'continue', the debugger will continue execution until the current function returns or a break point has been reached."
   ]
  },
  {
   "cell_type": "markdown",
   "id": "7b88d2a6",
   "metadata": {},
   "source": [
    "#### Question 11 "
   ]
  },
  {
   "cell_type": "raw",
   "id": "522b2ff8",
   "metadata": {},
   "source": [
    "Breakpoints are the intentional pausing points in the program put by the debugger to pause the execution of program to check the state of the program."
   ]
  },
  {
   "cell_type": "code",
   "execution_count": null,
   "id": "8d818487",
   "metadata": {},
   "outputs": [],
   "source": []
  },
  {
   "cell_type": "code",
   "execution_count": null,
   "id": "76722eab",
   "metadata": {},
   "outputs": [],
   "source": []
  },
  {
   "cell_type": "code",
   "execution_count": null,
   "id": "70a51b2a",
   "metadata": {},
   "outputs": [],
   "source": []
  }
 ],
 "metadata": {
  "kernelspec": {
   "display_name": "Python 3 (ipykernel)",
   "language": "python",
   "name": "python3"
  },
  "language_info": {
   "codemirror_mode": {
    "name": "ipython",
    "version": 3
   },
   "file_extension": ".py",
   "mimetype": "text/x-python",
   "name": "python",
   "nbconvert_exporter": "python",
   "pygments_lexer": "ipython3",
   "version": "3.9.12"
  }
 },
 "nbformat": 4,
 "nbformat_minor": 5
}
