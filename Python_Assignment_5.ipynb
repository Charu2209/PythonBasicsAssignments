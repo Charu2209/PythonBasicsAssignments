{
 "cells": [
  {
   "cell_type": "markdown",
   "id": "16f2d0f7",
   "metadata": {},
   "source": [
    "### Python Assignment 5"
   ]
  },
  {
   "cell_type": "markdown",
   "id": "3207f51c",
   "metadata": {},
   "source": [
    "#### Question 1 \n",
    "Empty dictionary - {}"
   ]
  },
  {
   "cell_type": "markdown",
   "id": "53917f46",
   "metadata": {},
   "source": [
    "#### Question 2"
   ]
  },
  {
   "cell_type": "code",
   "execution_count": 3,
   "id": "08a40ee5",
   "metadata": {},
   "outputs": [
    {
     "data": {
      "text/plain": [
       "{'foo': 42}"
      ]
     },
     "execution_count": 3,
     "metadata": {},
     "output_type": "execute_result"
    }
   ],
   "source": [
    "{'foo':42}"
   ]
  },
  {
   "cell_type": "markdown",
   "id": "b8a48b5c",
   "metadata": {},
   "source": [
    "#### Question 3"
   ]
  },
  {
   "cell_type": "raw",
   "id": "87192a79",
   "metadata": {},
   "source": [
    "\n",
    "A list is the collection of values while a dictionary is the collection of values in the form of\n",
    "key value pairs.\n",
    "We can access the values of list using the indexing method. We can access the values of dictionary using the keys."
   ]
  },
  {
   "cell_type": "markdown",
   "id": "12c283ed",
   "metadata": {},
   "source": [
    "#### Question 4"
   ]
  },
  {
   "cell_type": "code",
   "execution_count": 5,
   "id": "51835c01",
   "metadata": {},
   "outputs": [
    {
     "ename": "KeyError",
     "evalue": "'foo'",
     "output_type": "error",
     "traceback": [
      "\u001b[1;31m---------------------------------------------------------------------------\u001b[0m",
      "\u001b[1;31mKeyError\u001b[0m                                  Traceback (most recent call last)",
      "Input \u001b[1;32mIn [5]\u001b[0m, in \u001b[0;36m<cell line: 2>\u001b[1;34m()\u001b[0m\n\u001b[0;32m      1\u001b[0m spam \u001b[38;5;241m=\u001b[39m {\u001b[38;5;124m'\u001b[39m\u001b[38;5;124mbar\u001b[39m\u001b[38;5;124m'\u001b[39m:\u001b[38;5;241m100\u001b[39m}\n\u001b[1;32m----> 2\u001b[0m \u001b[43mspam\u001b[49m\u001b[43m[\u001b[49m\u001b[38;5;124;43m'\u001b[39;49m\u001b[38;5;124;43mfoo\u001b[39;49m\u001b[38;5;124;43m'\u001b[39;49m\u001b[43m]\u001b[49m\n",
      "\u001b[1;31mKeyError\u001b[0m: 'foo'"
     ]
    }
   ],
   "source": [
    "spam = {'bar':100}\n",
    "spam['foo']\n",
    "\n",
    "# Key error will occur as foo is not present in the spam."
   ]
  },
  {
   "cell_type": "markdown",
   "id": "673436f1",
   "metadata": {},
   "source": [
    "#### Question 5"
   ]
  },
  {
   "cell_type": "code",
   "execution_count": 12,
   "id": "0a10ee4f",
   "metadata": {},
   "outputs": [
    {
     "data": {
      "text/plain": [
       "True"
      ]
     },
     "execution_count": 12,
     "metadata": {},
     "output_type": "execute_result"
    }
   ],
   "source": [
    "spam = {'a':1,'b':2,'cat':7}\n",
    "#'cat' in spam\n",
    "'cat' in spam.keys()\n",
    "\n",
    "# In both the statement compiler will check whether the value cat is present in the keys of\n",
    "#dictionary.If it is present, it will return True and if not, it will return False."
   ]
  },
  {
   "cell_type": "markdown",
   "id": "b2b5560a",
   "metadata": {},
   "source": [
    "#### Question 6"
   ]
  },
  {
   "cell_type": "code",
   "execution_count": 20,
   "id": "08ca4f18",
   "metadata": {},
   "outputs": [
    {
     "data": {
      "text/plain": [
       "False"
      ]
     },
     "execution_count": 20,
     "metadata": {},
     "output_type": "execute_result"
    }
   ],
   "source": [
    "spam = {'a':1,'b':2,'cat':7}\n",
    "'cat' in spam\n",
    "# the above statement will check the value of cat in all the keys of dictionary. If it is present\n",
    "# it will return True else False.\n",
    "\n",
    "'cat' in spam.values()\n",
    "# the above statement will check the value of cat in all the values correspnding to keys\n",
    "#of dictionary. If it is present it will return True else False.\n"
   ]
  },
  {
   "cell_type": "markdown",
   "id": "b8872ad2",
   "metadata": {},
   "source": [
    "#### Question 7"
   ]
  },
  {
   "cell_type": "code",
   "execution_count": 22,
   "id": "e3fec882",
   "metadata": {},
   "outputs": [
    {
     "data": {
      "text/plain": [
       "'black'"
      ]
     },
     "execution_count": 22,
     "metadata": {},
     "output_type": "execute_result"
    }
   ],
   "source": [
    "spam.setdefault('color','black')"
   ]
  },
  {
   "cell_type": "markdown",
   "id": "ba3c9eb6",
   "metadata": {},
   "source": [
    "#### Question 8"
   ]
  },
  {
   "cell_type": "code",
   "execution_count": 27,
   "id": "dbd08b9d",
   "metadata": {},
   "outputs": [
    {
     "name": "stdout",
     "output_type": "stream",
     "text": [
      "{'a': 1, 'b': 2, 'cat': 7, 'color': 'black'}\n"
     ]
    }
   ],
   "source": [
    "pprint.pprint(spam)"
   ]
  },
  {
   "cell_type": "code",
   "execution_count": null,
   "id": "a8528669",
   "metadata": {},
   "outputs": [],
   "source": []
  }
 ],
 "metadata": {
  "kernelspec": {
   "display_name": "Python 3 (ipykernel)",
   "language": "python",
   "name": "python3"
  },
  "language_info": {
   "codemirror_mode": {
    "name": "ipython",
    "version": 3
   },
   "file_extension": ".py",
   "mimetype": "text/x-python",
   "name": "python",
   "nbconvert_exporter": "python",
   "pygments_lexer": "ipython3",
   "version": "3.9.12"
  }
 },
 "nbformat": 4,
 "nbformat_minor": 5
}
