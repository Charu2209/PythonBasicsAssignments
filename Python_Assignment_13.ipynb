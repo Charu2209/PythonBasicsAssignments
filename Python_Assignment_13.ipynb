{
 "cells": [
  {
   "cell_type": "markdown",
   "id": "2af19670",
   "metadata": {},
   "source": [
    "### PYTHON ASSIGNMENT 13"
   ]
  },
  {
   "cell_type": "markdown",
   "id": "38cecb3b",
   "metadata": {},
   "source": [
    "#### Question 1"
   ]
  },
  {
   "cell_type": "raw",
   "id": "d9597e65",
   "metadata": {},
   "source": [
    "Advantages of excel over csv:\n",
    "1) Excel represents data in tabular form which is easy to read and understand.\n",
    "2) It is easy to manipulate and perform calculations with data in excel.\n",
    "3) We can also anylyse the data visually in excel.\n",
    "4) Can easily be integrated with certain tools.\n",
    "5) Can secure the excel by using passwords."
   ]
  },
  {
   "cell_type": "markdown",
   "id": "e53af52e",
   "metadata": {},
   "source": [
    "#### Question 2"
   ]
  },
  {
   "cell_type": "raw",
   "id": "79a9a2f9",
   "metadata": {},
   "source": [
    "import csv"
   ]
  },
  {
   "cell_type": "raw",
   "id": "0250d36a",
   "metadata": {},
   "source": [
    "csv.reader(iterable)\n",
    "iterable: it is an object that can return the lines.\n",
    "\n",
    "csv.writer(fileobj)\n",
    "fileobj - any file object that supports the file API."
   ]
  },
  {
   "cell_type": "markdown",
   "id": "3111eb46",
   "metadata": {},
   "source": [
    "#### Question 3"
   ]
  },
  {
   "cell_type": "raw",
   "id": "029d4314",
   "metadata": {},
   "source": [
    "Mode for File Objects for reader - 'r' (read)\n",
    "Mode for File Objects for writer - 'w' (write)"
   ]
  },
  {
   "cell_type": "markdown",
   "id": "20bbb8bc",
   "metadata": {},
   "source": [
    "#### Question 4"
   ]
  },
  {
   "cell_type": "raw",
   "id": "3e681100",
   "metadata": {},
   "source": [
    "import csv\n",
    "with open('abc.csv', 'w', newline='') as file:\n",
    "    writer = csv.writer(file)\n",
    "    writer.writerow([\"SN\", \"Movie\", \"Protagonist\"])\n",
    "# writer.writerow() takes the list as argument"
   ]
  },
  {
   "cell_type": "markdown",
   "id": "aeef2622",
   "metadata": {},
   "source": [
    "#### Question 5"
   ]
  },
  {
   "cell_type": "raw",
   "id": "59da39b5",
   "metadata": {},
   "source": [
    "delimiter - use to seperate the words or fields. Default is ','.\n",
    "terminator - used to indicate the end of line. Default is \\r or \\n."
   ]
  },
  {
   "cell_type": "markdown",
   "id": "09b2e0ff",
   "metadata": {},
   "source": [
    "#### Question 6"
   ]
  },
  {
   "cell_type": "raw",
   "id": "007ed20b",
   "metadata": {},
   "source": [
    "import json\n",
    "json.loads() # takes json as data and return python data-structure."
   ]
  },
  {
   "cell_type": "markdown",
   "id": "36cac9fa",
   "metadata": {},
   "source": [
    "#### Question 7"
   ]
  },
  {
   "cell_type": "raw",
   "id": "7284572e",
   "metadata": {},
   "source": [
    "json.dumps() # returns json object of python data structures."
   ]
  },
  {
   "cell_type": "code",
   "execution_count": null,
   "id": "9ba5b00a",
   "metadata": {},
   "outputs": [],
   "source": []
  },
  {
   "cell_type": "code",
   "execution_count": null,
   "id": "ce07c774",
   "metadata": {},
   "outputs": [],
   "source": []
  }
 ],
 "metadata": {
  "kernelspec": {
   "display_name": "Python 3 (ipykernel)",
   "language": "python",
   "name": "python3"
  },
  "language_info": {
   "codemirror_mode": {
    "name": "ipython",
    "version": 3
   },
   "file_extension": ".py",
   "mimetype": "text/x-python",
   "name": "python",
   "nbconvert_exporter": "python",
   "pygments_lexer": "ipython3",
   "version": "3.9.12"
  }
 },
 "nbformat": 4,
 "nbformat_minor": 5
}
