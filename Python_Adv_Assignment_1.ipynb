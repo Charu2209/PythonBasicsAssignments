{
 "cells": [
  {
   "cell_type": "markdown",
   "id": "ae2e482c",
   "metadata": {},
   "source": [
    "### Question 1"
   ]
  },
  {
   "cell_type": "raw",
   "id": "d5031bae",
   "metadata": {},
   "source": [
    "Purpose of OOP in Python:\n",
    "1) It provides modularity.\n",
    "2) Reuse of code through inheritence.\n",
    "3) Flexibility through polymorphism.\n",
    "4) Effective problem solving with respect to real world. "
   ]
  },
  {
   "cell_type": "markdown",
   "id": "cbfc99a1",
   "metadata": {},
   "source": [
    "### Question 2"
   ]
  },
  {
   "cell_type": "raw",
   "id": "917645aa",
   "metadata": {},
   "source": [
    "An inheritance search looks for an attribute first in the instance object, then in the class the instance was created from,\n",
    "then in all higher superclasses, progressing from left to right (by default)."
   ]
  },
  {
   "cell_type": "markdown",
   "id": "712d8b01",
   "metadata": {},
   "source": [
    "### Question 3"
   ]
  },
  {
   "cell_type": "raw",
   "id": "d34c7c2c",
   "metadata": {},
   "source": [
    "Difference between class object and instance aboject:\n",
    "1)Class objects represent the class itself, while instance objects represent individual instances of the class.\n",
    "2)Class objects can have class-level attributes and methods that are shared among all instances of the class,\n",
    "  while instance objects have their own set of attributes and methods that are independent of other.\n",
    "3) Example:class MyClass:\n",
    "                pass\n",
    "   Here class object name is MyClass and we use this MyClass object to create instance object i.e obj=MyClass()"
   ]
  },
  {
   "cell_type": "markdown",
   "id": "aa80d8f3",
   "metadata": {},
   "source": [
    "### Question 4"
   ]
  },
  {
   "cell_type": "raw",
   "id": "441d2d93",
   "metadata": {},
   "source": [
    "The first argument in class method is instance object itself that is required to distinguish between various instances\n",
    "of the class.By convention the first argument is known as self."
   ]
  },
  {
   "cell_type": "markdown",
   "id": "4bde1a23",
   "metadata": {},
   "source": [
    "### Question 5"
   ]
  },
  {
   "cell_type": "raw",
   "id": "9350396f",
   "metadata": {},
   "source": [
    "The __init__() method works as a constructor of a class. It is used to initialise the attributes of an object as soon\n",
    "as the object is created."
   ]
  },
  {
   "cell_type": "markdown",
   "id": "4441ee9b",
   "metadata": {},
   "source": [
    "### Question 6"
   ]
  },
  {
   "cell_type": "raw",
   "id": "49f66356",
   "metadata": {},
   "source": [
    "Call the class using class name and pass the arguments what __init__ method is accepting.\n",
    "Example: obj=MyClass(num)"
   ]
  },
  {
   "cell_type": "markdown",
   "id": "78d2ea86",
   "metadata": {},
   "source": [
    "### Question 7"
   ]
  },
  {
   "cell_type": "raw",
   "id": "992803ac",
   "metadata": {},
   "source": [
    "To create a class we use the class keyword and after that provide the name of the class we want to give.\n",
    "Example:\n",
    "    class MyClass:\n",
    "        pass"
   ]
  },
  {
   "cell_type": "markdown",
   "id": "c94547fd",
   "metadata": {},
   "source": [
    "### Question 8"
   ]
  },
  {
   "cell_type": "raw",
   "id": "9e68a71f",
   "metadata": {},
   "source": [
    "The class whose properties are being inherited by another class is known as the superclass.\n",
    "In python super() keyword is used to refer to the superclass. It allows you to call methods defined in the superclass\n",
    "from the subclass, enabling you to extend and customize the functionality inherited from the parent class."
   ]
  }
 ],
 "metadata": {
  "kernelspec": {
   "display_name": "Python 3 (ipykernel)",
   "language": "python",
   "name": "python3"
  },
  "language_info": {
   "codemirror_mode": {
    "name": "ipython",
    "version": 3
   },
   "file_extension": ".py",
   "mimetype": "text/x-python",
   "name": "python",
   "nbconvert_exporter": "python",
   "pygments_lexer": "ipython3",
   "version": "3.9.12"
  }
 },
 "nbformat": 4,
 "nbformat_minor": 5
}
