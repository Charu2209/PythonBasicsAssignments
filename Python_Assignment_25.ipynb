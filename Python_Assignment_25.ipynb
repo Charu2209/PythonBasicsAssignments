{
 "cells": [
  {
   "attachments": {},
   "cell_type": "markdown",
   "metadata": {},
   "source": [
    "#### Question 1\n",
    "\n",
    "List Comprehension in square brackets : It will perform the operation and give the output based on the condition provided.\n",
    "\n",
    "List Comprehension in parenthesis : It will act as the generator."
   ]
  },
  {
   "attachments": {},
   "cell_type": "markdown",
   "metadata": {},
   "source": [
    "#### Question 2\n",
    "\n",
    "Iterator - Iterator is an object that can be iterated upon. Iterator contains the countable number of values.\n",
    "\n",
    "Generator - A special type of function that does not return a single value. It returns an iterator object with a sequence of values. It contains the yield statement."
   ]
  },
  {
   "attachments": {},
   "cell_type": "markdown",
   "metadata": {},
   "source": [
    "#### Question 3\n",
    "\n",
    "A generator funcgtion contains the yield statement instead of return statement."
   ]
  },
  {
   "attachments": {},
   "cell_type": "markdown",
   "metadata": {},
   "source": [
    "#### Question 4\n",
    "\n",
    "Whenever a yield statement is encountered in a function the execution of the function stops and the generator iterator object is returned. The state of the function which includes variable bindings, instruction pointer, the internal stack and a few other things are saved."
   ]
  },
  {
   "attachments": {},
   "cell_type": "markdown",
   "metadata": {},
   "source": [
    "#### Question 5\n",
    "\n",
    "1) List comprehension are used when a list of results is required as map only returns a map object and does not return any list.\n",
    "\n",
    "2) List comprehension is faster than map when we need to evaluate expressions that are too long or complicated to express.\n",
    "\n",
    "3) Map is faster in case of calling an already defined function (as no lambda is required).\n"
   ]
  }
 ],
 "metadata": {
  "language_info": {
   "name": "python"
  },
  "orig_nbformat": 4
 },
 "nbformat": 4,
 "nbformat_minor": 2
}
