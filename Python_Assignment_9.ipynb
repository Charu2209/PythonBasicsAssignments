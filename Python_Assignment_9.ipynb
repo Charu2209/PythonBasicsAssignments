{
 "cells": [
  {
   "cell_type": "markdown",
   "id": "786a9ecd",
   "metadata": {},
   "source": [
    "### PYTHON ASSIGNMENT 9"
   ]
  },
  {
   "cell_type": "markdown",
   "id": "55cd06ac",
   "metadata": {},
   "source": [
    "#### Question 1"
   ]
  },
  {
   "cell_type": "markdown",
   "id": "0833fe9b",
   "metadata": {},
   "source": [
    "A relative path describe the location of a file or folder with respect to the present working\n",
    "directory."
   ]
  },
  {
   "cell_type": "markdown",
   "id": "e42b5abc",
   "metadata": {},
   "source": [
    "#### Question 2"
   ]
  },
  {
   "cell_type": "markdown",
   "id": "0d2406af",
   "metadata": {},
   "source": [
    "Absolute paths start with the root folder, such as / or C:\\."
   ]
  },
  {
   "cell_type": "markdown",
   "id": "a7ad3b75",
   "metadata": {},
   "source": [
    "#### Question 3"
   ]
  },
  {
   "cell_type": "raw",
   "id": "6d0729cf",
   "metadata": {},
   "source": [
    "# os.getcwd() - Returns a unicode string representing current working directory.\n",
    "os.chdir() - Change the current working directory to the specified path."
   ]
  },
  {
   "cell_type": "markdown",
   "id": "8c8610e0",
   "metadata": {},
   "source": [
    "#### Question 4"
   ]
  },
  {
   "cell_type": "raw",
   "id": "861ab423",
   "metadata": {},
   "source": [
    "'.' represents current folder.\n",
    "'..' represents parent folder."
   ]
  },
  {
   "cell_type": "markdown",
   "id": "fadbc949",
   "metadata": {},
   "source": [
    "#### Question 5"
   ]
  },
  {
   "cell_type": "raw",
   "id": "97ccd623",
   "metadata": {},
   "source": [
    "'eggs' is the directory name.\n",
    "'spam.txt' is the base name."
   ]
  },
  {
   "cell_type": "markdown",
   "id": "33410f4c",
   "metadata": {},
   "source": [
    "#### Question 6"
   ]
  },
  {
   "cell_type": "raw",
   "id": "3d8f50fa",
   "metadata": {},
   "source": [
    "The 4 'mode' in open() function are:\n",
    "'r' - open the file for reading.\n",
    "'w' - for writing in the file. It creates (if file does not exist) and truncate (if file already exist) the file.\n",
    "'x' - creating and writing in new file.\n",
    "'a' - appending the file."
   ]
  },
  {
   "cell_type": "markdown",
   "id": "4554e9f7",
   "metadata": {},
   "source": [
    "#### Question 7 "
   ]
  },
  {
   "cell_type": "raw",
   "id": "c5c37699",
   "metadata": {},
   "source": [
    "If existing file is opened in write mode it will override the already existing data."
   ]
  },
  {
   "cell_type": "markdown",
   "id": "e1ed3de9",
   "metadata": {},
   "source": [
    "#### Question 8"
   ]
  },
  {
   "cell_type": "raw",
   "id": "e923392f",
   "metadata": {},
   "source": [
    "read()- returns file content as a string.\n",
    "readlines() - return the list of strings where each value is a line within a file."
   ]
  },
  {
   "cell_type": "markdown",
   "id": "3de62504",
   "metadata": {},
   "source": [
    "#### Question 9"
   ]
  },
  {
   "cell_type": "markdown",
   "id": "065bd9b5",
   "metadata": {},
   "source": [
    "Shelf value resemble the dictionary data structure."
   ]
  },
  {
   "cell_type": "code",
   "execution_count": null,
   "id": "c1fc9748",
   "metadata": {},
   "outputs": [],
   "source": []
  },
  {
   "cell_type": "code",
   "execution_count": null,
   "id": "eb229c4b",
   "metadata": {},
   "outputs": [],
   "source": []
  }
 ],
 "metadata": {
  "kernelspec": {
   "display_name": "Python 3 (ipykernel)",
   "language": "python",
   "name": "python3"
  },
  "language_info": {
   "codemirror_mode": {
    "name": "ipython",
    "version": 3
   },
   "file_extension": ".py",
   "mimetype": "text/x-python",
   "name": "python",
   "nbconvert_exporter": "python",
   "pygments_lexer": "ipython3",
   "version": "3.9.12"
  }
 },
 "nbformat": 4,
 "nbformat_minor": 5
}
