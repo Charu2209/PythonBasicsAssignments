{
 "cells": [
  {
   "cell_type": "markdown",
   "id": "13d16b42",
   "metadata": {},
   "source": [
    "### Python_Assignment_3"
   ]
  },
  {
   "cell_type": "markdown",
   "id": "77ed14de",
   "metadata": {},
   "source": [
    "#### Question 1\n",
    "Functions increase the resuability of code."
   ]
  },
  {
   "cell_type": "markdown",
   "id": "b92b3985",
   "metadata": {},
   "source": [
    "#### Question 2"
   ]
  },
  {
   "cell_type": "raw",
   "id": "357500b7",
   "metadata": {},
   "source": [
    "During the creation(or defination) of function the code written is called the specified code.\n",
    "\n",
    "During the call of function like 'run()' the code that was specified actually gets called\n",
    "to perform the specified task."
   ]
  },
  {
   "cell_type": "markdown",
   "id": "8da89349",
   "metadata": {},
   "source": [
    "#### Question 3"
   ]
  },
  {
   "cell_type": "raw",
   "id": "9cf4f85c",
   "metadata": {},
   "source": [
    "def function_name() statement create the function.\n",
    "example def display() "
   ]
  },
  {
   "cell_type": "markdown",
   "id": "051fc5fd",
   "metadata": {},
   "source": [
    "#### Question 4"
   ]
  },
  {
   "cell_type": "raw",
   "id": "5def49da",
   "metadata": {},
   "source": [
    "Function - A function is the one in which we write some code so that we can use it whenever\n",
    "           needed.\n",
    "Function Call - At the time of function call we actually tells our program to use and run the\n",
    "                code written within the function."
   ]
  },
  {
   "cell_type": "markdown",
   "id": "94697558",
   "metadata": {},
   "source": [
    "#### Question 5 \n",
    "I think the question is wrong. Please provide the code as well along with the question"
   ]
  },
  {
   "cell_type": "markdown",
   "id": "9bec1c32",
   "metadata": {},
   "source": [
    "#### Question 6\n",
    "The Local variables are destroyed. "
   ]
  },
  {
   "cell_type": "markdown",
   "id": "9468498f",
   "metadata": {},
   "source": [
    "#### Question 7\n",
    "A return value is the value which we want to return from a function to use it as a result and\n",
    "for the manipulation in other parts of the program.\n",
    "Yes, we can use the return value in an expression."
   ]
  },
  {
   "cell_type": "markdown",
   "id": "5feb165f",
   "metadata": {},
   "source": [
    "#### Question 8\n",
    "None is return by the function which do nat have a return value."
   ]
  },
  {
   "cell_type": "markdown",
   "id": "2272cd0c",
   "metadata": {},
   "source": [
    "#### Question 9"
   ]
  },
  {
   "cell_type": "raw",
   "id": "b62d7e27",
   "metadata": {},
   "source": [
    "By using the 'global' keyword\n",
    "example: global x"
   ]
  },
  {
   "cell_type": "markdown",
   "id": "224edc2e",
   "metadata": {},
   "source": [
    "#### Question 10\n",
    "None is data type of its own NoneType."
   ]
  },
  {
   "cell_type": "markdown",
   "id": "629c55e3",
   "metadata": {},
   "source": [
    "#### Question 11\n",
    "It will import the libaray name areallyourpetsnamederic"
   ]
  },
  {
   "cell_type": "markdown",
   "id": "30d6cb3e",
   "metadata": {},
   "source": [
    "#### Question 12\n",
    "This function can be called with spam.bacon()."
   ]
  },
  {
   "cell_type": "markdown",
   "id": "b0e36318",
   "metadata": {},
   "source": [
    "#### Question 13\n",
    "We can put the program in try block and handle the error thrown by the program in the except block."
   ]
  },
  {
   "cell_type": "markdown",
   "id": "a6df8f3b",
   "metadata": {},
   "source": [
    "#### Question 14\n",
    "In the try clause, all statements are executed until an exception is encountered. except is used to catch and handle the exception(s) that are encountered in the try clause."
   ]
  },
  {
   "cell_type": "code",
   "execution_count": null,
   "id": "d2814a9a",
   "metadata": {},
   "outputs": [],
   "source": []
  }
 ],
 "metadata": {
  "kernelspec": {
   "display_name": "Python 3 (ipykernel)",
   "language": "python",
   "name": "python3"
  },
  "language_info": {
   "codemirror_mode": {
    "name": "ipython",
    "version": 3
   },
   "file_extension": ".py",
   "mimetype": "text/x-python",
   "name": "python",
   "nbconvert_exporter": "python",
   "pygments_lexer": "ipython3",
   "version": "3.9.12"
  }
 },
 "nbformat": 4,
 "nbformat_minor": 5
}
