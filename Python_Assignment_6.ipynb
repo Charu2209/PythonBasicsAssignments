{
 "cells": [
  {
   "cell_type": "markdown",
   "id": "86af91c8",
   "metadata": {},
   "source": [
    "### Pyhton Assignment 6"
   ]
  },
  {
   "cell_type": "markdown",
   "id": "2616d75e",
   "metadata": {},
   "source": [
    "#### Question 1"
   ]
  },
  {
   "cell_type": "raw",
   "id": "16837dee",
   "metadata": {},
   "source": [
    "The backslash \"\\\" is a special character, also called the \"escape\" character. It is used in \n",
    "representing certain whitespace characters: \"\\t\" is a tab, \"\\n\" is a newline.\n",
    "Conversely, prefixing a special character with \"\\\" turns it into an ordinary character.\n",
    "This is called \"escaping\". For example, \"\\'\" is the single quote character. 'It\\'s raining' \n",
    "therefore is a valid string and equivalent to \"It's raining\"."
   ]
  },
  {
   "cell_type": "markdown",
   "id": "cfb1b035",
   "metadata": {},
   "source": [
    "#### Question 2"
   ]
  },
  {
   "cell_type": "raw",
   "id": "74576cc5",
   "metadata": {},
   "source": [
    "\\n ---> Newline\n",
    "\\t ---> Tab"
   ]
  },
  {
   "cell_type": "markdown",
   "id": "852c8f7b",
   "metadata": {},
   "source": [
    "#### Question 3"
   ]
  },
  {
   "cell_type": "raw",
   "id": "5bb9d776",
   "metadata": {},
   "source": [
    "By prefixing a backslash with an escape character('\\'), we can include the backslash in a string."
   ]
  },
  {
   "cell_type": "code",
   "execution_count": 5,
   "id": "639ee457",
   "metadata": {},
   "outputs": [
    {
     "data": {
      "text/plain": [
       "'\\\\'"
      ]
     },
     "execution_count": 5,
     "metadata": {},
     "output_type": "execute_result"
    }
   ],
   "source": [
    "s = '\\\\'\n",
    "s"
   ]
  },
  {
   "cell_type": "markdown",
   "id": "cb31c8f9",
   "metadata": {},
   "source": [
    "#### Question 4"
   ]
  },
  {
   "cell_type": "code",
   "execution_count": 8,
   "id": "08a7c7b0",
   "metadata": {},
   "outputs": [
    {
     "name": "stdout",
     "output_type": "stream",
     "text": [
      "Howl's Moving Castle\n"
     ]
    }
   ],
   "source": [
    "s = \"Howl's Moving Castle\"\n",
    "print(s)"
   ]
  },
  {
   "cell_type": "raw",
   "id": "8b7ec79b",
   "metadata": {},
   "source": [
    "The above string is a valid string because the string is enclosed within the double quotes.\n",
    "So the single quote within the string has not created any problem. However, if the string had been enclosed within the single quotes then the single quote within the string must have created the problem."
   ]
  },
  {
   "cell_type": "markdown",
   "id": "e1eb125e",
   "metadata": {},
   "source": [
    "#### Question 5"
   ]
  },
  {
   "cell_type": "raw",
   "id": "60b1fedd",
   "metadata": {},
   "source": [
    "By using the \"multiline string\" we can write the string of newlines without using \\n."
   ]
  },
  {
   "cell_type": "code",
   "execution_count": 13,
   "id": "795c9b5c",
   "metadata": {},
   "outputs": [
    {
     "name": "stdout",
     "output_type": "stream",
     "text": [
      "ABCD\n",
      "BEFGH\n",
      "PQRS\n"
     ]
    }
   ],
   "source": [
    "print(\"\"\"ABCD\n",
    "BEFGH\n",
    "PQRS\"\"\")"
   ]
  },
  {
   "cell_type": "markdown",
   "id": "7deb136c",
   "metadata": {},
   "source": [
    "#### Question 6"
   ]
  },
  {
   "cell_type": "code",
   "execution_count": 14,
   "id": "ec43f892",
   "metadata": {},
   "outputs": [
    {
     "data": {
      "text/plain": [
       "'e'"
      ]
     },
     "execution_count": 14,
     "metadata": {},
     "output_type": "execute_result"
    }
   ],
   "source": [
    "'Hello, world!'[1]\n",
    "# Will give the value at index 1"
   ]
  },
  {
   "cell_type": "code",
   "execution_count": 16,
   "id": "88c8e04f",
   "metadata": {},
   "outputs": [
    {
     "data": {
      "text/plain": [
       "'Hello'"
      ]
     },
     "execution_count": 16,
     "metadata": {},
     "output_type": "execute_result"
    }
   ],
   "source": [
    "'Hello, world!'[0:5]\n",
    "# Will give the value present at index value 0 to 4."
   ]
  },
  {
   "cell_type": "code",
   "execution_count": 18,
   "id": "b514929a",
   "metadata": {},
   "outputs": [
    {
     "data": {
      "text/plain": [
       "'Hello'"
      ]
     },
     "execution_count": 18,
     "metadata": {},
     "output_type": "execute_result"
    }
   ],
   "source": [
    "'Hello, world!'[:5]\n",
    "# Will give the value present at index value 0 to 4."
   ]
  },
  {
   "cell_type": "code",
   "execution_count": 19,
   "id": "ca1c1bb5",
   "metadata": {},
   "outputs": [
    {
     "data": {
      "text/plain": [
       "'lo, world!'"
      ]
     },
     "execution_count": 19,
     "metadata": {},
     "output_type": "execute_result"
    }
   ],
   "source": [
    "'Hello, world!'[3:]\n",
    "# will return value present at index 3 to the string length."
   ]
  },
  {
   "cell_type": "markdown",
   "id": "0e75299b",
   "metadata": {},
   "source": [
    "#### Question 7"
   ]
  },
  {
   "cell_type": "code",
   "execution_count": 21,
   "id": "9d56e983",
   "metadata": {},
   "outputs": [
    {
     "data": {
      "text/plain": [
       "'HELLO'"
      ]
     },
     "execution_count": 21,
     "metadata": {},
     "output_type": "execute_result"
    }
   ],
   "source": [
    "'Hello'.upper()\n",
    "# Convert the whole string into uppercase."
   ]
  },
  {
   "cell_type": "code",
   "execution_count": 22,
   "id": "9562c09c",
   "metadata": {},
   "outputs": [
    {
     "data": {
      "text/plain": [
       "True"
      ]
     },
     "execution_count": 22,
     "metadata": {},
     "output_type": "execute_result"
    }
   ],
   "source": [
    "'Hello'.upper().isupper()\n",
    "# First convert the string into uppercase and then check whether the string is in uppercase or not."
   ]
  },
  {
   "cell_type": "code",
   "execution_count": 25,
   "id": "dcfd7289",
   "metadata": {},
   "outputs": [
    {
     "data": {
      "text/plain": [
       "'hello'"
      ]
     },
     "execution_count": 25,
     "metadata": {},
     "output_type": "execute_result"
    }
   ],
   "source": [
    "'Hello'.upper().lower()\n",
    "# First convert the string into uppercase and then convert it into lowercase and return the string."
   ]
  },
  {
   "cell_type": "markdown",
   "id": "587ba1bf",
   "metadata": {},
   "source": [
    "#### Question 8"
   ]
  },
  {
   "cell_type": "code",
   "execution_count": null,
   "id": "a2a7534f",
   "metadata": {},
   "outputs": [],
   "source": [
    "'Remember, remember, the fifth of July.'.split()\n",
    "# Return the list of characters by splitting the string based on the space character within the\n",
    "#string."
   ]
  },
  {
   "cell_type": "code",
   "execution_count": 28,
   "id": "dc0dddf1",
   "metadata": {},
   "outputs": [
    {
     "data": {
      "text/plain": [
       "'There-can-only-one.'"
      ]
     },
     "execution_count": 28,
     "metadata": {},
     "output_type": "execute_result"
    }
   ],
   "source": [
    "'-'.join('There can only one.'.split())\n",
    "# Return the string by replacing  whitespace with '-'"
   ]
  },
  {
   "cell_type": "markdown",
   "id": "098c5c48",
   "metadata": {},
   "source": [
    "#### Question 9"
   ]
  },
  {
   "cell_type": "raw",
   "id": "200b42bc",
   "metadata": {},
   "source": [
    "ljust() --> Left justify the string.\n",
    "rjust() --> Right justify the string.\n",
    "center() --> Center the string."
   ]
  },
  {
   "cell_type": "markdown",
   "id": "93207719",
   "metadata": {},
   "source": [
    "#### Question 10"
   ]
  },
  {
   "cell_type": "code",
   "execution_count": 31,
   "id": "020d2a96",
   "metadata": {},
   "outputs": [
    {
     "data": {
      "text/plain": [
       "'hahaha'"
      ]
     },
     "execution_count": 31,
     "metadata": {},
     "output_type": "execute_result"
    }
   ],
   "source": [
    "s = ' hahaha '\n",
    "s.strip()\n",
    "# By using the strip method we can remove the leading and trailing whitspaces."
   ]
  },
  {
   "cell_type": "code",
   "execution_count": null,
   "id": "734f8cf7",
   "metadata": {},
   "outputs": [],
   "source": []
  }
 ],
 "metadata": {
  "kernelspec": {
   "display_name": "Python 3 (ipykernel)",
   "language": "python",
   "name": "python3"
  },
  "language_info": {
   "codemirror_mode": {
    "name": "ipython",
    "version": 3
   },
   "file_extension": ".py",
   "mimetype": "text/x-python",
   "name": "python",
   "nbconvert_exporter": "python",
   "pygments_lexer": "ipython3",
   "version": "3.9.12"
  }
 },
 "nbformat": 4,
 "nbformat_minor": 5
}
