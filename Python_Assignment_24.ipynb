{
 "cells": [
  {
   "attachments": {},
   "cell_type": "markdown",
   "metadata": {},
   "source": [
    "#### Question 1\n",
    "\n",
    "def - is used to define the normal functions. \n",
    "\n",
    "lambda - is used to define the anonymous function. These can take only one line of code."
   ]
  },
  {
   "attachments": {},
   "cell_type": "markdown",
   "metadata": {},
   "source": [
    "#### Question 2\n",
    "\n",
    "1) Some functions are temporary in the code, we dont need them later. So, lambda can be the good option there.\n",
    "\n",
    "2) lambda functions are just one line of code. Hence, provides the good readability and helps in minimizing the lines of code."
   ]
  },
  {
   "attachments": {},
   "cell_type": "markdown",
   "metadata": {},
   "source": [
    "#### Question 3\n",
    "\n",
    "Map - it takes a function and an iterable as input and applies the function to each element of the iterable and return the result.\n",
    "\n",
    "Filter - it is similar to the map except that the function must be of boolean nature.\n",
    "\n",
    "Reduce - Reduce does not work differently, it performs the operation on each and every element of iterable and returns the single value as outcome.\n"
   ]
  },
  {
   "attachments": {},
   "cell_type": "markdown",
   "metadata": {},
   "source": [
    "#### Question 4\n",
    "\n",
    "Function Annotation -  are used to add extra information to function arguments and return value. Annotations can be used \n",
    "for better documentation purpose and documentation can be moved out of the docstring.\n",
    "\n",
    "Example :\n",
    "\n",
    "Without function annotation\n",
    "\n",
    "def div(a, b):\n",
    "\n",
    "\"\"\"Divide a by b \n",
    "args:\n",
    "a - the dividend\n",
    "b - the divisor (must be different than 0)\n",
    "return:\n",
    "the result of dividing a by b\n",
    "\"\"\"\n",
    "\n",
    "    return a / b\n",
    "\n",
    "With function annotation\n",
    "\n",
    "def div(a: 'the dividend',b: 'the divisor (must be different than 0)') -> 'the result of dividing a by b':\n",
    "\n",
    "    \"\"\"Divide a by b\"\"\"\n",
    "    \n",
    "    return a / b\n"
   ]
  },
  {
   "attachments": {},
   "cell_type": "markdown",
   "metadata": {},
   "source": [
    "#### Question 5\n",
    "Recursive Functions: Are the functions calling itself. They are made up of 2 parts the base case part and the recursive part. Base case part specifies the condition where recursive call needs to be stop. Recursive part specifies the function calling itself."
   ]
  },
  {
   "attachments": {},
   "cell_type": "markdown",
   "metadata": {},
   "source": [
    "#### Question 6\n",
    "1)Use a tab for indentation\n",
    "\n",
    "2)Using docstrings\n",
    "\n",
    "3)Don't write more than 79 characters in a line\n",
    "\n",
    "4) Using spaces before and after the operator\n",
    "\n",
    "5) Importing one module at a time\n",
    "\n",
    "6)Naming Variables, Constants, Classes and Functions\n",
    "\n",
    "snake case for functions and variables : snake_case => this_is_function\n",
    "\n",
    "Pascal case for classes : PascalCase => ThisIsClass\n",
    "\n",
    "for constants use capital letters seperated by underscore: CONSTANT => THIS_IS_CONSTANT"
   ]
  },
  {
   "attachments": {},
   "cell_type": "markdown",
   "metadata": {},
   "source": [
    "\n"
   ]
  }
 ],
 "metadata": {
  "language_info": {
   "name": "python"
  },
  "orig_nbformat": 4
 },
 "nbformat": 4,
 "nbformat_minor": 2
}
