{
 "cells": [
  {
   "cell_type": "markdown",
   "id": "227e2ad1",
   "metadata": {},
   "source": [
    "### PYTHON ASSIGNMENT 14"
   ]
  },
  {
   "cell_type": "markdown",
   "id": "14c2b42c",
   "metadata": {},
   "source": [
    "#### Question1"
   ]
  },
  {
   "cell_type": "raw",
   "id": "dd0107f6",
   "metadata": {},
   "source": [
    "RGBA is a group of numbers that specify the amount of R-red,G-green,B-blue and A-alpha(or transparency)\n",
    "in a color"
   ]
  },
  {
   "cell_type": "markdown",
   "id": "49ce8414",
   "metadata": {},
   "source": [
    "#### Question 2"
   ]
  },
  {
   "cell_type": "raw",
   "id": "59fcc6de",
   "metadata": {},
   "source": [
    "import os\n",
    "from PIL import Image\n",
    "img = Image.open('abc.PNG')\n",
    "rgba = img.convert('RGBA')\n",
    "value = rgba.getdata()\n",
    "print(*value)"
   ]
  },
  {
   "cell_type": "markdown",
   "id": "c414d980",
   "metadata": {},
   "source": [
    "#### Question 3"
   ]
  },
  {
   "cell_type": "raw",
   "id": "cd50a55d",
   "metadata": {},
   "source": [
    "Box Tuple : takes the 4 values each seperated by the comma.\n",
    "Example : box = (200, 300, 700, 600)\n",
    "Argument 1 (Left): specify the left coordinate of the image.\n",
    "Argument 2 (Upper): specify the upper coordinate of the image.\n",
    "Together Argument1 + Argument2 specify the upper left coordinate position of the image.\n",
    "Argumeent 3 (Right) : the number of position need to travel towards right from the above coordinates.\n",
    "Argument 4 (Lower) : the number of positions that need to travel towards down from the above coordinates.\n",
    "Together these 4 values specify the image coordinates that forms the shape of the box.\n",
    "\n",
    "We can use these tuple to crop the image.\n",
    "Example:\n",
    "    \n",
    "from PIL import Image\n",
    "image = Image.open('abc.png')\n",
    "box = (200, 300, 700, 600)\n",
    "cropped_image = image.crop(box)\n",
    "cropped_image.save('cropped_image.jpg')"
   ]
  },
  {
   "cell_type": "markdown",
   "id": "c4cf8d24",
   "metadata": {},
   "source": [
    "#### Question 4"
   ]
  },
  {
   "cell_type": "raw",
   "id": "0397e6bd",
   "metadata": {},
   "source": [
    "from PIL import Image\n",
    "\n",
    "img = Image.open(\"abc.png\")\n",
    "\n",
    "print(\"The height of the image is: \", img.height)\n",
    "print(\"The width of the image is: \", img.width)"
   ]
  },
  {
   "cell_type": "markdown",
   "id": "ef43e2c0",
   "metadata": {},
   "source": [
    "#### Question 5"
   ]
  },
  {
   "cell_type": "raw",
   "id": "0d43395f",
   "metadata": {},
   "source": [
    "image = Image.open('abc.jpg')\n",
    "box = (0, 50, 50, 50)\n",
    "cropped_image = image.crop(box)\n",
    "cropped_image.save('lower_left_corner.jpg')"
   ]
  },
  {
   "cell_type": "markdown",
   "id": "b0dd6be8",
   "metadata": {},
   "source": [
    "#### Question 6 "
   ]
  },
  {
   "cell_type": "raw",
   "id": "9877b197",
   "metadata": {},
   "source": [
    "By using the save() method.\n",
    "imageobject.save('image_name.jpg')"
   ]
  },
  {
   "cell_type": "markdown",
   "id": "3f8335d5",
   "metadata": {},
   "source": [
    "#### Question 7"
   ]
  },
  {
   "cell_type": "raw",
   "id": "de69f6a0",
   "metadata": {},
   "source": [
    "ImageDraw Module."
   ]
  },
  {
   "cell_type": "markdown",
   "id": "fada5064",
   "metadata": {},
   "source": [
    "#### Question 8"
   ]
  },
  {
   "cell_type": "raw",
   "id": "7689d166",
   "metadata": {},
   "source": [
    "from PIL import Image, ImageDraw\n",
    "\n",
    "# ImageDraw Modeule have drawing methods\n",
    "\n",
    "canvas = Image.new('RGB', (400, 300), 'white')\n",
    "img_draw = ImageDraw.Draw(canvas)\n"
   ]
  },
  {
   "cell_type": "code",
   "execution_count": null,
   "id": "2fd2670d",
   "metadata": {},
   "outputs": [],
   "source": []
  },
  {
   "cell_type": "code",
   "execution_count": null,
   "id": "deb3c205",
   "metadata": {},
   "outputs": [],
   "source": []
  }
 ],
 "metadata": {
  "kernelspec": {
   "display_name": "Python 3 (ipykernel)",
   "language": "python",
   "name": "python3"
  },
  "language_info": {
   "codemirror_mode": {
    "name": "ipython",
    "version": 3
   },
   "file_extension": ".py",
   "mimetype": "text/x-python",
   "name": "python",
   "nbconvert_exporter": "python",
   "pygments_lexer": "ipython3",
   "version": "3.9.12"
  }
 },
 "nbformat": 4,
 "nbformat_minor": 5
}
