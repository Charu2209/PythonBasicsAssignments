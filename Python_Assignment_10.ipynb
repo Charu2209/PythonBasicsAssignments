{
 "cells": [
  {
   "cell_type": "markdown",
   "id": "922a04e6",
   "metadata": {},
   "source": [
    "### PYTHON ASSIGNMENT 10"
   ]
  },
  {
   "cell_type": "markdown",
   "id": "c87cb45b",
   "metadata": {},
   "source": [
    "#### Question 1 "
   ]
  },
  {
   "cell_type": "raw",
   "id": "bf1e10f5",
   "metadata": {},
   "source": [
    "shutil.copy() - copies a single file.\n",
    "shutil.copytree() - copies the entire directory along with its all content."
   ]
  },
  {
   "cell_type": "markdown",
   "id": "5c4c01f4",
   "metadata": {},
   "source": [
    "#### Question 2"
   ]
  },
  {
   "cell_type": "markdown",
   "id": "3d989750",
   "metadata": {},
   "source": [
    "os.rename() method is used to rename a file and a directory."
   ]
  },
  {
   "cell_type": "markdown",
   "id": "6839facd",
   "metadata": {},
   "source": [
    "#### Question 3"
   ]
  },
  {
   "cell_type": "raw",
   "id": "9acc510d",
   "metadata": {},
   "source": [
    "delete function in send2trash moves a file and folder to recycle bin instead of permanently deleting them.\n",
    "delete function in shutil deletes a file and folder permanently."
   ]
  },
  {
   "cell_type": "markdown",
   "id": "b55b00c0",
   "metadata": {},
   "source": [
    "#### Question 4"
   ]
  },
  {
   "cell_type": "raw",
   "id": "82cf0509",
   "metadata": {},
   "source": [
    "zipfile.ZipFile() method is equivalent to the open() function of file objects."
   ]
  },
  {
   "cell_type": "markdown",
   "id": "87d0984d",
   "metadata": {},
   "source": [
    "#### Question 5"
   ]
  },
  {
   "cell_type": "code",
   "execution_count": 8,
   "id": "7401f978",
   "metadata": {},
   "outputs": [
    {
     "name": "stdout",
     "output_type": "stream",
     "text": [
      "Enter the absolute path of the folder to be searched : C:\\Users\\HP\\Desktop\\test\n",
      "Enter the absolute path of the folder to copy the data : C:\\Users\\HP\\Desktop\\test1\n",
      "Data Copied Successfully...\n"
     ]
    }
   ],
   "source": [
    "import os,shutil\n",
    "\n",
    "def inputFileNames():\n",
    "    ''' This functions take the input of source and destination folder'''\n",
    "    \n",
    "    folderToSearch = input(\"Enter the absolute path of the folder to be searched : \")\n",
    "    folderToCopyData = input(\"Enter the absolute path of the folder to copy the data : \")\n",
    "    return folderToSearch,folderToCopyData\n",
    "\n",
    "def copyPdfJpgFile(sourceFolder,destFolder):\n",
    "    ''' This function copy the files from source to destination folder '''\n",
    "\n",
    "    for foldername,subfolder,filenames in os.walk(sourceFolder,topdown = True):\n",
    "        for filename in filenames:\n",
    "            if filename.lower().endswith(('.pdf','.jpg')):\n",
    "                fileToCopy = os.path.join(foldername,filename)\n",
    "                shutil.copy(fileToCopy,destFolder)\n",
    "    print('Data Copied Successfully...')\n",
    "\n",
    "sourceFolder,destFolder = inputFileNames()\n",
    "copyPdfJpgFile(sourceFolder,destFolder)\n",
    "\n",
    "\n"
   ]
  },
  {
   "cell_type": "code",
   "execution_count": null,
   "id": "8b5be651",
   "metadata": {},
   "outputs": [],
   "source": []
  },
  {
   "cell_type": "code",
   "execution_count": null,
   "id": "950030a9",
   "metadata": {},
   "outputs": [],
   "source": []
  }
 ],
 "metadata": {
  "kernelspec": {
   "display_name": "Python 3 (ipykernel)",
   "language": "python",
   "name": "python3"
  },
  "language_info": {
   "codemirror_mode": {
    "name": "ipython",
    "version": 3
   },
   "file_extension": ".py",
   "mimetype": "text/x-python",
   "name": "python",
   "nbconvert_exporter": "python",
   "pygments_lexer": "ipython3",
   "version": "3.9.12"
  }
 },
 "nbformat": 4,
 "nbformat_minor": 5
}
