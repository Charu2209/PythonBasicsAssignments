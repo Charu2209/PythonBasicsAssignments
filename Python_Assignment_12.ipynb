{
 "cells": [
  {
   "cell_type": "markdown",
   "id": "bcbf7da1",
   "metadata": {},
   "source": [
    "### PYTHON ASSIGNMENT 12"
   ]
  },
  {
   "cell_type": "markdown",
   "id": "b2da3793",
   "metadata": {},
   "source": [
    "#### Question 1 "
   ]
  },
  {
   "cell_type": "raw",
   "id": "13e27a99",
   "metadata": {},
   "source": [
    "PdfFileReader() - should be opened in read-binary mode by providing 'rb' as a second parameter to open().\n",
    "PdfFileWriter() - should be opened in write-binary mode by providin 'wb' as a second parameter to open()."
   ]
  },
  {
   "cell_type": "markdown",
   "id": "de1c3dad",
   "metadata": {},
   "source": [
    "#### Question 2"
   ]
  },
  {
   "cell_type": "raw",
   "id": "fed6f8f3",
   "metadata": {},
   "source": [
    "By calling getPage(4) we can access the page number 5. Here, we passed the 4 because page numbers starts from 0."
   ]
  },
  {
   "cell_type": "markdown",
   "id": "5d025a32",
   "metadata": {},
   "source": [
    "#### Question 3"
   ]
  },
  {
   "cell_type": "raw",
   "id": "f3b3f10d",
   "metadata": {},
   "source": [
    "The total number of pages in the document is stored in the numPages attribute of the pdfFile Reader.\n",
    "import PyPDF2 as pdf\n",
    "pdfFileObj = open(\"abc.pdf\",'rb')\n",
    "pdfReader = pdf.PdfFileReader(pdfFileObj)\n",
    "pdfReader.numPages"
   ]
  },
  {
   "cell_type": "markdown",
   "id": "2ca30391",
   "metadata": {},
   "source": [
    "#### Question 4"
   ]
  },
  {
   "cell_type": "raw",
   "id": "4180ef5c",
   "metadata": {},
   "source": [
    "Before accessing the page objects, the pdf has to be decrypted by using decrypt('swordfish') method."
   ]
  },
  {
   "cell_type": "markdown",
   "id": "8dda04bd",
   "metadata": {},
   "source": [
    "#### Question 5"
   ]
  },
  {
   "cell_type": "raw",
   "id": "56073c63",
   "metadata": {},
   "source": [
    "The rotateClockwise() and rotateCounterClockwise() methods."
   ]
  },
  {
   "cell_type": "markdown",
   "id": "e4cbf12a",
   "metadata": {},
   "source": [
    "#### Question 6"
   ]
  },
  {
   "cell_type": "raw",
   "id": "60823a9f",
   "metadata": {},
   "source": [
    "Run object - Runs are contigous group of characters with the same style.\n",
    "Paragraph object - Paragraphs are a group of run objects. A new paragraph begins when a user enters\n",
    "ENTER or RETURN while typing the object"
   ]
  },
  {
   "cell_type": "markdown",
   "id": "84d39440",
   "metadata": {},
   "source": [
    "#### Question 7"
   ]
  },
  {
   "cell_type": "raw",
   "id": "33aa1d00",
   "metadata": {},
   "source": [
    "import docx\n",
    "doc = docx.Document('abc.docx')\n",
    "doc.paragraphs"
   ]
  },
  {
   "cell_type": "markdown",
   "id": "cee0292e",
   "metadata": {},
   "source": [
    "#### Question 8"
   ]
  },
  {
   "cell_type": "raw",
   "id": "ad6b9180",
   "metadata": {},
   "source": [
    "Run Object"
   ]
  },
  {
   "cell_type": "markdown",
   "id": "7fc78124",
   "metadata": {},
   "source": [
    "#### Question 9 "
   ]
  },
  {
   "cell_type": "raw",
   "id": "9b04d2e9",
   "metadata": {},
   "source": [
    "For Bold Attribute:\n",
    "True - Bold attribute is enabled.\n",
    "False - Bold Attribute is disabled.\n",
    "None - Is Set to the default value of Bold."
   ]
  },
  {
   "cell_type": "markdown",
   "id": "15829b8f",
   "metadata": {},
   "source": [
    "#### Question 10"
   ]
  },
  {
   "cell_type": "raw",
   "id": "3a2e9716",
   "metadata": {},
   "source": [
    "import docx\n",
    "doc = docx.Document('abc.docx')"
   ]
  },
  {
   "cell_type": "markdown",
   "id": "e077e83b",
   "metadata": {},
   "source": [
    "#### Question 11"
   ]
  },
  {
   "cell_type": "raw",
   "id": "71ffff3b",
   "metadata": {},
   "source": [
    "import docx\n",
    "doc = docx.Document()\n",
    "\n",
    "doc.add_paragraph('Hello there!')\n",
    "doc.save('abc.docx')\n"
   ]
  },
  {
   "cell_type": "markdown",
   "id": "c150d8ba",
   "metadata": {},
   "source": [
    "#### Question 12"
   ]
  },
  {
   "cell_type": "raw",
   "id": "eadb578d",
   "metadata": {},
   "source": [
    "To add a titile or heading we use:\n",
    "doc.add_heading(String s, level)\n",
    "where: s is the string heading or title that is to be addes.\n",
    "level: takes value from 0-9. It raises value error if value other than this range is provided,"
   ]
  },
  {
   "cell_type": "code",
   "execution_count": null,
   "id": "db82ca7b",
   "metadata": {},
   "outputs": [],
   "source": []
  },
  {
   "cell_type": "code",
   "execution_count": null,
   "id": "ae063f6f",
   "metadata": {},
   "outputs": [],
   "source": []
  }
 ],
 "metadata": {
  "kernelspec": {
   "display_name": "Python 3 (ipykernel)",
   "language": "python",
   "name": "python3"
  },
  "language_info": {
   "codemirror_mode": {
    "name": "ipython",
    "version": 3
   },
   "file_extension": ".py",
   "mimetype": "text/x-python",
   "name": "python",
   "nbconvert_exporter": "python",
   "pygments_lexer": "ipython3",
   "version": "3.9.12"
  }
 },
 "nbformat": 4,
 "nbformat_minor": 5
}
