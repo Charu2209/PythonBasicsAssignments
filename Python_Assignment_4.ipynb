{
 "cells": [
  {
   "cell_type": "markdown",
   "id": "e4bc9e2b",
   "metadata": {},
   "source": [
    "### Python_Assignment_4"
   ]
  },
  {
   "cell_type": "markdown",
   "id": "b15c47fb",
   "metadata": {},
   "source": [
    "#### Question 1 \n",
    "[] is an empty list."
   ]
  },
  {
   "cell_type": "code",
   "execution_count": 5,
   "id": "b56e4d4b",
   "metadata": {},
   "outputs": [
    {
     "data": {
      "text/plain": [
       "[2, 3, 'hello', 4, 5, 6]"
      ]
     },
     "execution_count": 5,
     "metadata": {},
     "output_type": "execute_result"
    }
   ],
   "source": []
  },
  {
   "cell_type": "markdown",
   "id": "df31852c",
   "metadata": {},
   "source": [
    "### Question 2 "
   ]
  },
  {
   "cell_type": "code",
   "execution_count": 6,
   "id": "c1beb658",
   "metadata": {},
   "outputs": [
    {
     "data": {
      "text/plain": [
       "[2, 4, 'hello', 8, 10]"
      ]
     },
     "execution_count": 6,
     "metadata": {},
     "output_type": "execute_result"
    }
   ],
   "source": [
    "spam = [2, 4, 6, 8, 10]\n",
    "spam[2]='hello'\n",
    "spam"
   ]
  },
  {
   "cell_type": "code",
   "execution_count": 7,
   "id": "53fb607a",
   "metadata": {},
   "outputs": [
    {
     "data": {
      "text/plain": [
       "[2, 3, 'hello', 4, 5, 6]"
      ]
     },
     "execution_count": 7,
     "metadata": {},
     "output_type": "execute_result"
    }
   ],
   "source": [
    "spam=[2,3,4,5,6]\n",
    "spam.insert(2,'hello')\n",
    "spam"
   ]
  },
  {
   "cell_type": "markdown",
   "id": "34140e79",
   "metadata": {},
   "source": [
    "### Question 3"
   ]
  },
  {
   "cell_type": "code",
   "execution_count": 8,
   "id": "00e6ab54",
   "metadata": {},
   "outputs": [
    {
     "data": {
      "text/plain": [
       "'d'"
      ]
     },
     "execution_count": 8,
     "metadata": {},
     "output_type": "execute_result"
    }
   ],
   "source": [
    "spam = ['a','b','c','d']\n",
    "spam[int(int('3' * 2) / 11)]\n",
    "\n",
    "# 'd' will be the answer"
   ]
  },
  {
   "cell_type": "markdown",
   "id": "ba604d61",
   "metadata": {},
   "source": [
    "#### Question 4"
   ]
  },
  {
   "cell_type": "code",
   "execution_count": 9,
   "id": "a433e57a",
   "metadata": {},
   "outputs": [
    {
     "data": {
      "text/plain": [
       "'d'"
      ]
     },
     "execution_count": 9,
     "metadata": {},
     "output_type": "execute_result"
    }
   ],
   "source": [
    "spam = ['a','b','c','d']\n",
    "spam[-1]\n",
    "\n",
    "# 'd' will be the answer"
   ]
  },
  {
   "cell_type": "markdown",
   "id": "d7272a9e",
   "metadata": {},
   "source": [
    "#### Question 5"
   ]
  },
  {
   "cell_type": "code",
   "execution_count": 10,
   "id": "fdaca3c8",
   "metadata": {},
   "outputs": [
    {
     "data": {
      "text/plain": [
       "['a', 'b']"
      ]
     },
     "execution_count": 10,
     "metadata": {},
     "output_type": "execute_result"
    }
   ],
   "source": [
    "spam = ['a','b','c','d']\n",
    "spam[0:2]\n",
    "\n",
    "# ['a','b'] will be the answer"
   ]
  },
  {
   "cell_type": "markdown",
   "id": "5cd1f7b6",
   "metadata": {},
   "source": [
    "#### Question 6"
   ]
  },
  {
   "cell_type": "code",
   "execution_count": 11,
   "id": "3305719c",
   "metadata": {},
   "outputs": [
    {
     "data": {
      "text/plain": [
       "1"
      ]
     },
     "execution_count": 11,
     "metadata": {},
     "output_type": "execute_result"
    }
   ],
   "source": [
    "bacon = [3.14, 'cat',11,'cat',True]\n",
    "bacon.index('cat')\n",
    "\n",
    "# 1 will be the answer"
   ]
  },
  {
   "cell_type": "markdown",
   "id": "772431f1",
   "metadata": {},
   "source": [
    "#### Question 7 "
   ]
  },
  {
   "cell_type": "code",
   "execution_count": 14,
   "id": "5d8294d5",
   "metadata": {},
   "outputs": [
    {
     "data": {
      "text/plain": [
       "[3.14, 'cat', 11, 'cat', True, 99]"
      ]
     },
     "execution_count": 14,
     "metadata": {},
     "output_type": "execute_result"
    }
   ],
   "source": [
    "bacon = [3.14, 'cat',11,'cat',True]\n",
    "bacon.append(99)\n",
    "bacon\n",
    "\n",
    "# new list --> [3.14, 'cat',11,'cat',True,99]"
   ]
  },
  {
   "cell_type": "markdown",
   "id": "a41d0a5a",
   "metadata": {},
   "source": [
    "#### Question 8"
   ]
  },
  {
   "cell_type": "code",
   "execution_count": 16,
   "id": "167d6e54",
   "metadata": {},
   "outputs": [
    {
     "data": {
      "text/plain": [
       "[3.14, 11, 'cat', True]"
      ]
     },
     "execution_count": 16,
     "metadata": {},
     "output_type": "execute_result"
    }
   ],
   "source": [
    "bacon = [3.14, 'cat',11,'cat',True]\n",
    "bacon.remove('cat')\n",
    "bacon\n",
    "\n",
    "# # new list --> [3.14,11,'cat',True]"
   ]
  },
  {
   "cell_type": "markdown",
   "id": "922240cc",
   "metadata": {},
   "source": [
    "#### Question 9"
   ]
  },
  {
   "cell_type": "raw",
   "id": "994e7ce7",
   "metadata": {},
   "source": [
    "+ ---> list concatenation operator\n",
    "* ---> list replication operator"
   ]
  },
  {
   "cell_type": "markdown",
   "id": "73599ec8",
   "metadata": {},
   "source": [
    "#### Question 10"
   ]
  },
  {
   "cell_type": "raw",
   "id": "9f36cba1",
   "metadata": {},
   "source": [
    "Append() - Append method will put the provided value at the end of the list.\n",
    "Insert() - Using insert method we can put the value anywhere in the list."
   ]
  },
  {
   "cell_type": "markdown",
   "id": "ee28c686",
   "metadata": {},
   "source": [
    "#### Question 11"
   ]
  },
  {
   "cell_type": "raw",
   "id": "e70172e8",
   "metadata": {},
   "source": [
    "Method 1 - Using the remove() function.\n",
    "Method 2 - Using the pop() function.\n"
   ]
  },
  {
   "cell_type": "markdown",
   "id": "88bf4259",
   "metadata": {},
   "source": [
    "#### Question 12"
   ]
  },
  {
   "cell_type": "raw",
   "id": "0a89b5f6",
   "metadata": {},
   "source": [
    "Similarities between list values and string values:\n",
    "1) They both are ordered collection.\n",
    "2) Elements of both can be accessed using index."
   ]
  },
  {
   "cell_type": "markdown",
   "id": "3946f81c",
   "metadata": {},
   "source": [
    "#### Question 13"
   ]
  },
  {
   "cell_type": "raw",
   "id": "ef89b5eb",
   "metadata": {},
   "source": [
    "Difference between tuple and list:\n",
    "1) Tuples are immutable while lists are mutable.\n",
    "2) We can declare the tuple using the () bracket. example: (1,2)\n",
    "   List can be declared by using the [] bracket. example: [1,2]"
   ]
  },
  {
   "cell_type": "markdown",
   "id": "3c196c47",
   "metadata": {},
   "source": [
    "#### Question 14"
   ]
  },
  {
   "cell_type": "code",
   "execution_count": 20,
   "id": "361cb33d",
   "metadata": {},
   "outputs": [
    {
     "data": {
      "text/plain": [
       "(42,)"
      ]
     },
     "execution_count": 20,
     "metadata": {},
     "output_type": "execute_result"
    }
   ],
   "source": [
    "(42,)"
   ]
  },
  {
   "cell_type": "markdown",
   "id": "e0b3700f",
   "metadata": {},
   "source": [
    "#### Question 15"
   ]
  },
  {
   "cell_type": "code",
   "execution_count": 24,
   "id": "4090af89",
   "metadata": {},
   "outputs": [
    {
     "name": "stdout",
     "output_type": "stream",
     "text": [
      "[1, 2, 3] (1, 2, 3)\n"
     ]
    }
   ],
   "source": [
    "## List values from tuple\n",
    "a=(1,2,3)\n",
    "a=list(a)\n",
    "\n",
    "### Tuple values from list\n",
    "b = [1,2,3]\n",
    "b=tuple(b)\n",
    "\n",
    "print(a,b)\n",
    "\n"
   ]
  },
  {
   "cell_type": "markdown",
   "id": "275cb90c",
   "metadata": {},
   "source": [
    "#### Question 16\n",
    "Insted of containing the list themselves, variables contain the reference to the list. A reference\n",
    "is the memory address where the the list is actually stored in the memory."
   ]
  },
  {
   "cell_type": "markdown",
   "id": "162595b4",
   "metadata": {},
   "source": [
    "#### Question 17\n",
    "copy.copy() - will create reference to original object copy. If you make any changes to copied object\n",
    "              you make changes to original object.\n",
    "\n",
    "copy.deepcopy() - creates new object and does real copying of original objects. Any changes made on\n",
    "                  copied object does not affect the original object.\n"
   ]
  },
  {
   "cell_type": "code",
   "execution_count": null,
   "id": "20e7b3a1",
   "metadata": {},
   "outputs": [],
   "source": []
  }
 ],
 "metadata": {
  "kernelspec": {
   "display_name": "Python 3 (ipykernel)",
   "language": "python",
   "name": "python3"
  },
  "language_info": {
   "codemirror_mode": {
    "name": "ipython",
    "version": 3
   },
   "file_extension": ".py",
   "mimetype": "text/x-python",
   "name": "python",
   "nbconvert_exporter": "python",
   "pygments_lexer": "ipython3",
   "version": "3.9.12"
  }
 },
 "nbformat": 4,
 "nbformat_minor": 5
}
