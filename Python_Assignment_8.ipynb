{
 "cells": [
  {
   "cell_type": "markdown",
   "id": "07a68dee",
   "metadata": {},
   "source": [
    "### PYTHON ASSIGNMENT 8"
   ]
  },
  {
   "cell_type": "markdown",
   "id": "1f62fa82",
   "metadata": {},
   "source": [
    "#### Question 1"
   ]
  },
  {
   "cell_type": "markdown",
   "id": "c2230ca7",
   "metadata": {},
   "source": [
    "Python standard library does not include PyInputPlus. We need to install it seperately."
   ]
  },
  {
   "cell_type": "markdown",
   "id": "90f3d4a5",
   "metadata": {},
   "source": [
    "#### Question 2"
   ]
  },
  {
   "cell_type": "markdown",
   "id": "ad1ac67c",
   "metadata": {},
   "source": [
    "PyInputPlus is commonly imported with import PyInputPlus as pypi to make use of shorter name\n",
    "instead of bigger name whereever needed."
   ]
  },
  {
   "cell_type": "markdown",
   "id": "dd9165bc",
   "metadata": {},
   "source": [
    "#### Question 3"
   ]
  },
  {
   "cell_type": "markdown",
   "id": "a8acff7c",
   "metadata": {},
   "source": [
    "inputInt() expects a value to be of integer datatype. Whereas, inputFloat() expects a value to be\n",
    "of float datatype."
   ]
  },
  {
   "cell_type": "markdown",
   "id": "7225c3b0",
   "metadata": {},
   "source": [
    "#### Question 4"
   ]
  },
  {
   "cell_type": "markdown",
   "id": "73aa9308",
   "metadata": {},
   "source": [
    "inputInt() has 2 parameters min and max to define the range of int value to be inputted.\n",
    "Example: inputInt(min=0,max=99)."
   ]
  },
  {
   "cell_type": "markdown",
   "id": "94fa409f",
   "metadata": {},
   "source": [
    "#### Question 5"
   ]
  },
  {
   "cell_type": "markdown",
   "id": "0a546692",
   "metadata": {},
   "source": [
    "allowRegexes and blockRegexes accepts a list of regular expression strings that are accepted \n",
    "or denied respectively."
   ]
  },
  {
   "cell_type": "markdown",
   "id": "539315d6",
   "metadata": {},
   "source": [
    "#### Question 6"
   ]
  },
  {
   "cell_type": "markdown",
   "id": "d58b6d23",
   "metadata": {},
   "source": [
    "The function will raise RetryLimitException."
   ]
  },
  {
   "cell_type": "markdown",
   "id": "fbf9b66b",
   "metadata": {},
   "source": [
    "#### Question 7 "
   ]
  },
  {
   "cell_type": "markdown",
   "id": "437c1a4c",
   "metadata": {},
   "source": [
    "The function will return the value 'hello'."
   ]
  },
  {
   "cell_type": "code",
   "execution_count": null,
   "id": "e7e90c0c",
   "metadata": {},
   "outputs": [],
   "source": []
  },
  {
   "cell_type": "code",
   "execution_count": null,
   "id": "f8f41399",
   "metadata": {},
   "outputs": [],
   "source": []
  }
 ],
 "metadata": {
  "kernelspec": {
   "display_name": "Python 3 (ipykernel)",
   "language": "python",
   "name": "python3"
  },
  "language_info": {
   "codemirror_mode": {
    "name": "ipython",
    "version": 3
   },
   "file_extension": ".py",
   "mimetype": "text/x-python",
   "name": "python",
   "nbconvert_exporter": "python",
   "pygments_lexer": "ipython3",
   "version": "3.9.12"
  }
 },
 "nbformat": 4,
 "nbformat_minor": 5
}
