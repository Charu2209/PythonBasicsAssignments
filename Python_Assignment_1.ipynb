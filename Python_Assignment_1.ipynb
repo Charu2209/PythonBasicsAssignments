{
 "cells": [
  {
   "cell_type": "markdown",
   "id": "be42dab9",
   "metadata": {},
   "source": [
    "### PYTHON ASSIGNMENT 1"
   ]
  },
  {
   "cell_type": "markdown",
   "id": "2c6db161",
   "metadata": {},
   "source": [
    "#### Question 1"
   ]
  },
  {
   "cell_type": "markdown",
   "id": "e1c66f5a",
   "metadata": {},
   "source": [
    "* --> Expression\n",
    "'Hello' --> Value\n",
    "-87.8 --> Value\n",
    "- --> Expression\n",
    "/ --> Expression\n",
    "+ --> Expression\n",
    "6 --> Value"
   ]
  },
  {
   "cell_type": "markdown",
   "id": "2dcfe1d4",
   "metadata": {},
   "source": [
    "#### Question 2"
   ]
  },
  {
   "cell_type": "markdown",
   "id": "50a390be",
   "metadata": {},
   "source": [
    "Variable : A variable is a symbol which is used to store the data (value).\n",
    "String : A String is the value which can be stored in a variable."
   ]
  },
  {
   "cell_type": "markdown",
   "id": "b6cc8db1",
   "metadata": {},
   "source": [
    "#### Question 3"
   ]
  },
  {
   "cell_type": "markdown",
   "id": "acb259d9",
   "metadata": {},
   "source": [
    "1) Numeric : A numeric datatype is the one which represents the numbers. It can include integer\n",
    "            numbers, floating- point numbers, complex numbers.\n",
    "\n",
    "2) Boolean : A boolean datatype is the one which holds only 2 values that are True or False.\n",
    "\n",
    "3) Strings : Strings can be defined as the sequence of characters enclosed within the single\n",
    "             quotes, double quotes, triple quotes."
   ]
  },
  {
   "cell_type": "markdown",
   "id": "54aca524",
   "metadata": {},
   "source": [
    "#### Question 4\n",
    "An expression is consist of operators and operands which is then evaluated to get the result."
   ]
  },
  {
   "cell_type": "markdown",
   "id": "35854e0f",
   "metadata": {},
   "source": [
    "#### Question 5 "
   ]
  },
  {
   "cell_type": "markdown",
   "id": "3d0c5f5a",
   "metadata": {},
   "source": [
    "Assignment Statement - is an expression which assign the value on the right hand side of '=' to \n",
    "                       the variable on the left hand side of '='.\n",
    "Expression : is consist of operators and operands which are then evaluated to reach to an outcome"
   ]
  },
  {
   "cell_type": "markdown",
   "id": "d9b49b0e",
   "metadata": {},
   "source": [
    "#### Question 6"
   ]
  },
  {
   "cell_type": "markdown",
   "id": "452ead7f",
   "metadata": {},
   "source": [
    "The variable bacon will hold the value 22."
   ]
  },
  {
   "cell_type": "markdown",
   "id": "1fbf459d",
   "metadata": {},
   "source": [
    "#### Question 7\n",
    "Both the terms will produce the result : spamspamspam"
   ]
  },
  {
   "cell_type": "markdown",
   "id": "44484ab1",
   "metadata": {},
   "source": [
    "#### Question 8"
   ]
  },
  {
   "cell_type": "markdown",
   "id": "a22a5d4a",
   "metadata": {},
   "source": [
    "In every programming language there are certain rules to define a variable name. In python the\n",
    "rules are as follows:\n",
    "1) A variable name must start with a letter or the underscore character.\n",
    "2) A variable name cannot start with a number.\n",
    "3) A variable name can only contain alpha-numeric characters and underscores (A-z, 0-9, and _ )\n",
    "so, according to above cited rules,\n",
    "eggs is a valid variable name.\n",
    "100 is an invalid variable name."
   ]
  },
  {
   "cell_type": "markdown",
   "id": "e1f6c564",
   "metadata": {},
   "source": [
    "#### Question 9"
   ]
  },
  {
   "cell_type": "markdown",
   "id": "8b3c84d2",
   "metadata": {},
   "source": [
    "To get the value as:\n",
    "int ---> int() function is used.\n",
    "float ---> float() function is used.\n",
    "string ---> str() function is used."
   ]
  },
  {
   "cell_type": "markdown",
   "id": "34502a8f",
   "metadata": {},
   "source": [
    "#### Question 10"
   ]
  },
  {
   "cell_type": "markdown",
   "id": "eb7bc501",
   "metadata": {},
   "source": [
    "'I have eaten' + 99 + 'burritos'\n",
    "\n",
    "The expression cause an error because + operator with one value as string expects the other value\n",
    "too to be a string, But here, 99 is an integer. So, it is causing an error.\n",
    "\n",
    "We can fix the error by enclosing the 99 within th quotes."
   ]
  },
  {
   "cell_type": "code",
   "execution_count": null,
   "id": "b795a1be",
   "metadata": {},
   "outputs": [],
   "source": []
  },
  {
   "cell_type": "code",
   "execution_count": null,
   "id": "654530d8",
   "metadata": {},
   "outputs": [],
   "source": []
  }
 ],
 "metadata": {
  "kernelspec": {
   "display_name": "Python 3 (ipykernel)",
   "language": "python",
   "name": "python3"
  },
  "language_info": {
   "codemirror_mode": {
    "name": "ipython",
    "version": 3
   },
   "file_extension": ".py",
   "mimetype": "text/x-python",
   "name": "python",
   "nbconvert_exporter": "python",
   "pygments_lexer": "ipython3",
   "version": "3.9.12"
  }
 },
 "nbformat": 4,
 "nbformat_minor": 5
}
