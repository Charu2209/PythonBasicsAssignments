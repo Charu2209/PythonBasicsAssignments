{
 "cells": [
  {
   "cell_type": "markdown",
   "id": "49c4bbe6",
   "metadata": {},
   "source": [
    "### Python_Assignment_2"
   ]
  },
  {
   "cell_type": "markdown",
   "id": "61617776",
   "metadata": {},
   "source": [
    "#### Question 1"
   ]
  },
  {
   "cell_type": "raw",
   "id": "045ed84c",
   "metadata": {},
   "source": [
    "The 2 different values of bolean are true and false.\n",
    "We can write them as : True and False"
   ]
  },
  {
   "cell_type": "markdown",
   "id": "6ab40740",
   "metadata": {},
   "source": [
    "#### Question 2"
   ]
  },
  {
   "cell_type": "raw",
   "id": "a972d3d7",
   "metadata": {},
   "source": [
    "3 different type of boolean operators are:\n",
    "and - both the operands should be true to give the result as true otherwise the result will be\n",
    "      false.\n",
    "or - atleast one of the 2 operands should be true to give the result a true otherwise the result\n",
    "     will be false.\n",
    "not - it will opposite the result. Like True will become False and False will become True."
   ]
  },
  {
   "cell_type": "markdown",
   "id": "e4ae4ac8",
   "metadata": {},
   "source": [
    "#### Question 3"
   ]
  },
  {
   "cell_type": "raw",
   "id": "62ea8cd0",
   "metadata": {},
   "source": [
    "TRUTH TABLE AND And OR\n",
    "A\tB\tAND\tOR\n",
    "0\t0\t0\t0\n",
    "0\t1\t0\t1\n",
    "1\t0\t0\t1\n",
    "1\t1\t1\t1\n",
    "\n",
    "TRUTH TABLE OF NOT\n",
    "A   NOT\n",
    "0    1\n",
    "1    0\t\t\n"
   ]
  },
  {
   "cell_type": "markdown",
   "id": "5bbb65fb",
   "metadata": {},
   "source": [
    "#### Question 4 "
   ]
  },
  {
   "cell_type": "raw",
   "id": "5f70efba",
   "metadata": {},
   "source": [
    "(5 > 4)and(3 == 5) ---> False\n",
    "not(5 > 4) ---> False\n",
    "(5 > 4)or(3 == 5) ---> True\n",
    "not((5 > 4) or (3 == 5)) ---> False\n",
    "(True and True)and(True == False) ---> False\n",
    "(not False)or(not True) --> True\n"
   ]
  },
  {
   "cell_type": "markdown",
   "id": "3c11f969",
   "metadata": {},
   "source": [
    "#### Question 5 "
   ]
  },
  {
   "cell_type": "raw",
   "id": "32392642",
   "metadata": {},
   "source": [
    "Six comparision operators are:\n",
    "Less than ( < )\n",
    "Less than or equal to ( <= )\n",
    "Greater than ( > )\n",
    "Greater than or equal to ( >= )\n",
    "Equal to ( == )\n",
    "Not equal to ( != )"
   ]
  },
  {
   "cell_type": "markdown",
   "id": "061b4a00",
   "metadata": {},
   "source": [
    "#### Question 6"
   ]
  },
  {
   "cell_type": "raw",
   "id": "ce6d933b",
   "metadata": {},
   "source": [
    "Equal to is being written as '=='. In Equal to we just check whether the LHS and RHS to the\n",
    "operator '==' are equal or not.\n",
    "\n",
    "Assignment operator is being written as '=' . In assignment operator we assign the value of RHS\n",
    "to the '=' operator to the variable present on the LHS to the '=' operator."
   ]
  },
  {
   "cell_type": "markdown",
   "id": "3680fa52",
   "metadata": {},
   "source": [
    "#### Question 7"
   ]
  },
  {
   "cell_type": "raw",
   "id": "c51e1cf2",
   "metadata": {},
   "source": [
    "Code\t                  Block\n",
    "\n",
    "if spam == 10:\n",
    "print(‘eggs’)\t         BLOCK 1\n",
    "\n",
    "if spam > 5:\n",
    "print(‘bacon’)\t         BLOCK 2\n",
    "\n",
    "else:\n",
    "print(‘ham’)\n",
    "print(‘spam’)            BLOCK 3\n",
    "print(‘spam’)\t\n"
   ]
  },
  {
   "cell_type": "markdown",
   "id": "d99a29ea",
   "metadata": {},
   "source": [
    "#### Question 8"
   ]
  },
  {
   "cell_type": "code",
   "execution_count": 5,
   "id": "38a66244",
   "metadata": {},
   "outputs": [
    {
     "name": "stdout",
     "output_type": "stream",
     "text": [
      "Greetings!\n"
     ]
    }
   ],
   "source": [
    "def display(value):\n",
    " \"\"\" This function display the values based on the input provided.\"\"\"\n",
    "    spam = value\n",
    "    if spam==1:\n",
    "        print('Hello')\n",
    "    elif spam==2:\n",
    "        print('Howdy')\n",
    "    else:\n",
    "        print('Greetings!')\n",
    "\n",
    "display(98)\n",
    "        "
   ]
  },
  {
   "cell_type": "markdown",
   "id": "d534edda",
   "metadata": {},
   "source": [
    "#### Question 9\n",
    "CTRL + C"
   ]
  },
  {
   "cell_type": "markdown",
   "id": "ff1aef1f",
   "metadata": {},
   "source": [
    "#### Question 10"
   ]
  },
  {
   "cell_type": "raw",
   "id": "95bc82a5",
   "metadata": {},
   "source": [
    "Break statement - will bring the control out of the inner most loop.\n",
    "Continue statement - skips the current iteration of the loob and proceed with the next iteration."
   ]
  },
  {
   "cell_type": "markdown",
   "id": "312e8511",
   "metadata": {},
   "source": [
    "#### Question 11\n",
    "All 3 statements will produce the list of values from 0 to 9. Therfore, no difference."
   ]
  },
  {
   "cell_type": "markdown",
   "id": "95ed735f",
   "metadata": {},
   "source": [
    "#### Question 12"
   ]
  },
  {
   "cell_type": "code",
   "execution_count": 11,
   "id": "e31eebf5",
   "metadata": {},
   "outputs": [
    {
     "name": "stdout",
     "output_type": "stream",
     "text": [
      "0\n",
      "1\n",
      "2\n",
      "3\n",
      "4\n",
      "5\n",
      "6\n",
      "7\n",
      "8\n",
      "9\n",
      "10\n"
     ]
    }
   ],
   "source": [
    "# for loop\n",
    "for i in range (11):\n",
    "    print(i)"
   ]
  },
  {
   "cell_type": "code",
   "execution_count": 13,
   "id": "5904bf08",
   "metadata": {},
   "outputs": [
    {
     "name": "stdout",
     "output_type": "stream",
     "text": [
      "0\n",
      "1\n",
      "2\n",
      "3\n",
      "4\n",
      "5\n",
      "6\n",
      "7\n",
      "8\n",
      "9\n",
      "10\n"
     ]
    }
   ],
   "source": [
    "# While Loop\n",
    "j=0\n",
    "while(j<11):\n",
    "    print(j)\n",
    "    j+=1"
   ]
  },
  {
   "cell_type": "markdown",
   "id": "f2b9f41e",
   "metadata": {},
   "source": [
    "#### Question 13\n",
    " After import statement, we can call the function just by writing: spam.bacon()"
   ]
  },
  {
   "cell_type": "code",
   "execution_count": null,
   "id": "d2c869fa",
   "metadata": {},
   "outputs": [],
   "source": []
  }
 ],
 "metadata": {
  "kernelspec": {
   "display_name": "Python 3 (ipykernel)",
   "language": "python",
   "name": "python3"
  },
  "language_info": {
   "codemirror_mode": {
    "name": "ipython",
    "version": 3
   },
   "file_extension": ".py",
   "mimetype": "text/x-python",
   "name": "python",
   "nbconvert_exporter": "python",
   "pygments_lexer": "ipython3",
   "version": "3.9.12"
  }
 },
 "nbformat": 4,
 "nbformat_minor": 5
}
